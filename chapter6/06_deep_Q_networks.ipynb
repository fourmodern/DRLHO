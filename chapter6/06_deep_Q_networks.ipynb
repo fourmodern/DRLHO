{
  "nbformat": 4,
  "nbformat_minor": 0,
  "metadata": {
    "colab": {
      "name": "06_deep_Q_networks.ipynb",
      "provenance": [],
      "include_colab_link": true
    },
    "kernelspec": {
      "name": "python3",
      "display_name": "Python 3"
    }
  },
  "cells": [
    {
      "cell_type": "markdown",
      "metadata": {
        "id": "view-in-github",
        "colab_type": "text"
      },
      "source": [
        "<a href=\"https://colab.research.google.com/github/fourmodern/DRLHO/blob/master/chapter6/06_deep_Q_networks.ipynb\" target=\"_parent\"><img src=\"https://colab.research.google.com/assets/colab-badge.svg\" alt=\"Open In Colab\"/></a>"
      ]
    },
    {
      "cell_type": "markdown",
      "metadata": {
        "id": "AJ7FlK_HMh8x",
        "colab_type": "text"
      },
      "source": [
        "# 06. Deep Q Networks"
      ]
    },
    {
      "cell_type": "markdown",
      "metadata": {
        "id": "XZ55uq2tMiAD",
        "colab_type": "text"
      },
      "source": [
        "* Real-life value iteration\n",
        "* Tabular Q-learning\n",
        "* Deep Q-learning\n",
        " - Interaction with the environment\n",
        " - SGD optimization\n",
        " - Correlation between steps\n",
        " - The Markov property\n",
        " - The final form of DQN training\n",
        "* DQN on Pong\n",
        " - Wrappers\n",
        " - DQN model\n",
        " - Training\n",
        " - Running and performance\n",
        " - Your model in action"
      ]
    },
    {
      "cell_type": "markdown",
      "metadata": {
        "id": "Squc3zDeMiE6",
        "colab_type": "text"
      },
      "source": [
        "## Real-life value iteration"
      ]
    },
    {
      "cell_type": "markdown",
      "metadata": {
        "id": "Bntod7JvMiIs",
        "colab_type": "text"
      },
      "source": [
        "## Tabular Q-learning"
      ]
    },
    {
      "cell_type": "markdown",
      "metadata": {
        "id": "LwBy__q3M4_B",
        "colab_type": "text"
      },
      "source": [
        "## Deep Q-learning"
      ]
    },
    {
      "cell_type": "markdown",
      "metadata": {
        "id": "IfK9kPeJM5Bz",
        "colab_type": "text"
      },
      "source": [
        "## DQN on Pong"
      ]
    },
    {
      "cell_type": "markdown",
      "metadata": {
        "id": "_9Sxzfn7M5Eo",
        "colab_type": "text"
      },
      "source": [
        ""
      ]
    },
    {
      "cell_type": "markdown",
      "metadata": {
        "id": "qejGFjCjM5HU",
        "colab_type": "text"
      },
      "source": [
        ""
      ]
    },
    {
      "cell_type": "markdown",
      "metadata": {
        "id": "nd5f5NZ1M5KG",
        "colab_type": "text"
      },
      "source": [
        ""
      ]
    },
    {
      "cell_type": "markdown",
      "metadata": {
        "id": "0E-D5oOtM5NQ",
        "colab_type": "text"
      },
      "source": [
        ""
      ]
    },
    {
      "cell_type": "markdown",
      "metadata": {
        "id": "Kw2CkthYM5QO",
        "colab_type": "text"
      },
      "source": [
        ""
      ]
    },
    {
      "cell_type": "markdown",
      "metadata": {
        "id": "1Kcpl7QHM5TB",
        "colab_type": "text"
      },
      "source": [
        ""
      ]
    },
    {
      "cell_type": "markdown",
      "metadata": {
        "id": "2e8i-PtHM5V-",
        "colab_type": "text"
      },
      "source": [
        ""
      ]
    },
    {
      "cell_type": "code",
      "metadata": {
        "id": "gocQvAL2M2Ug",
        "colab_type": "code",
        "colab": {}
      },
      "source": [
        ""
      ],
      "execution_count": 0,
      "outputs": []
    }
  ]
}