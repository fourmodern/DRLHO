{
  "nbformat": 4,
  "nbformat_minor": 0,
  "metadata": {
    "colab": {
      "name": "Untitled2.ipynb",
      "provenance": [],
      "include_colab_link": true
    },
    "kernelspec": {
      "name": "python3",
      "display_name": "Python 3"
    }
  },
  "cells": [
    {
      "cell_type": "markdown",
      "metadata": {
        "id": "view-in-github",
        "colab_type": "text"
      },
      "source": [
        "<a href=\"https://colab.research.google.com/github/fourmodern/deeprl/blob/master/chapter5/05.Tabular%20Learning%20and%20the%20Bellman%20Equation.ipynb\" target=\"_parent\"><img src=\"https://colab.research.google.com/assets/colab-badge.svg\" alt=\"Open In Colab\"/></a>"
      ]
    },
    {
      "cell_type": "markdown",
      "metadata": {
        "id": "LycwkD1EC5w8",
        "colab_type": "text"
      },
      "source": [
        "# 05. Tabular Learning and the Bellman Equation"
      ]
    },
    {
      "cell_type": "markdown",
      "metadata": {
        "id": "vyag1rHaFwS-",
        "colab_type": "text"
      },
      "source": [
        "\n",
        "* Value, state, and optimality\n",
        "* The Bellman equation of optimality\n",
        "* Value of action\n",
        "* The value iteration method\n",
        "* Value iteration in practice\n",
        "* Q-learning for FrozenLake"
      ]
    },
    {
      "cell_type": "markdown",
      "metadata": {
        "id": "NkrjbTx4GAP7",
        "colab_type": "text"
      },
      "source": [
        "## Value, state, and optimality"
      ]
    },
    {
      "cell_type": "markdown",
      "metadata": {
        "id": "SgweqToaGUZi",
        "colab_type": "text"
      },
      "source": [
        "## The Bellman equation of optimality"
      ]
    },
    {
      "cell_type": "markdown",
      "metadata": {
        "id": "2uzyW8_SGT8a",
        "colab_type": "text"
      },
      "source": [
        "## Value of action"
      ]
    },
    {
      "cell_type": "markdown",
      "metadata": {
        "id": "VSJyf2kfGUqS",
        "colab_type": "text"
      },
      "source": [
        "## The value iteration method"
      ]
    },
    {
      "cell_type": "markdown",
      "metadata": {
        "id": "oAhSW9n_GU4o",
        "colab_type": "text"
      },
      "source": [
        "## Value iteration in practice\n",
        "\n"
      ]
    },
    {
      "cell_type": "markdown",
      "metadata": {
        "id": "W9g9n4vaGVEV",
        "colab_type": "text"
      },
      "source": [
        "## Q-learning for FrozenLake"
      ]
    },
    {
      "cell_type": "code",
      "metadata": {
        "id": "k5E5jXX0F7uv",
        "colab_type": "code",
        "colab": {}
      },
      "source": [
        ""
      ],
      "execution_count": 0,
      "outputs": []
    },
    {
      "cell_type": "code",
      "metadata": {
        "id": "nrRCsRKmGG93",
        "colab_type": "code",
        "colab": {}
      },
      "source": [
        ""
      ],
      "execution_count": 0,
      "outputs": []
    }
  ]
}